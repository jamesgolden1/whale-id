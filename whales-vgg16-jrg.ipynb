{
 "cells": [
  {
   "cell_type": "markdown",
   "metadata": {},
   "source": [
    "# Whale Identification Kaggle Challenge\n",
    "## James Golden\n",
    "\n",
    "https://www.kaggle.com/c/whale-categorization-playground\n",
    "\n",
    "\"In this competition, you’re challenged to build an algorithm to identifying whale species in images. You’ll analyze Happy Whale’s database of over 25,000 images, gathered from research institutions and public contributors.\n",
    "\n",
    "This training data contains thousands of images of humpback whale flukes. Individual whales have been identified by researchers and given an Id. The challenge is to predict the whale Id of images in the test set. What makes this such a challenge is that there are only a few examples for each of 3,000+ whale Ids.\n",
    "\n",
    "Submissions are evaluated according to the Mean Average Precision @ 5 (MAP@5):\n",
    "\n",
    "MAP@5=1U∑u=1U∑k=1min(n,5)P(k)\n",
    "\n",
    "where U is the number of images, P(k) is the precision at cutoff k, and n is the number predictions per image.\n",
    "Submission File\n",
    "\n",
    "For each Image in the test set, you may predict up to 5 labels for the whale Id. "
   ]
  },
  {
   "cell_type": "markdown",
   "metadata": {},
   "source": [
    "## General approach\n",
    "The training data consist of about 40,000 images of whale flukes and 3,000 ID strings for whales. There are also a number of images with the ID \"unknown\". There are only a few instances for each class, so in order to balance the classes I augmented the image data with grayscale, rotated, translated, zoomed and sheared versions of the original images.\n",
    "\n",
    "This is a straightforward object recongition problem, so I chose to use a Keras/Tensorflow implementation of the VGG16 network. I removed the last fully connected used for Imagenet classification and trained three fully connected layers on top of the VGG16 output. I used an early version of the FastAI toolbox in addition to Keras, which allows for easy utilization of large networks.\n",
    "\n",
    "Since we can predict the top 5 labels for the whale ID, we will make predictions for each image and sort by probability, i.e. a softmax normalization of the class predicitons. The additional complication is that some fraction will be \"unknown\". In order to deal with this, I have chosen to train on only those images with IDs. I will examine the distribution of the top softmax-normalized output layer responses and choose a cutoff. For example, if the largest softmax activation/probability is only 20%, it may be worth making the first guess \"unknown\". This approach requied some tuning and feedback from the Kaggle test set score.\n",
    "\n",
    "I placed 33/528 in this challenge - I got to first place with five months to go and then stopped working on it (note that my last entry is five months before the competition ended; I shifted into working on responding to reviews for a journal manuscript from my postdoc research). I wanted to include this to show my network reached an acceptable level of accuracy.\n",
    "\n",
    "If I had continued working on this, there are a few things I would have done differently: I would have chosen a different approach for handling the numerous \"unknown\" labels, maybe tried slower but richer online data augmentation, and perhaps shifted everything to a ResNet front end. Now looking at the fully connected layers, the number of free parameters is huge - I should have done a 2D average pooling step, perhaps shifting the 512x14x14 output down to 512x2x2 or even 512x1x1. I think I could have had probably two layers instead of three on top, with far fewer parameters."
   ]
  },
  {
   "cell_type": "markdown",
   "metadata": {},
   "source": [
    "## Load dataset"
   ]
  },
  {
   "cell_type": "code",
   "execution_count": null,
   "metadata": {},
   "outputs": [],
   "source": [
    "# imports\n",
    "from __future__ import division\n",
    "from utils import *\n",
    "from vgg16 import *\n",
    "import numpy as np\n",
    "import os, sys\n",
    "import pandas as pd\n",
    "from shutil import copyfile\n",
    "import scipy\n",
    "from sklearn.preprocessing import OneHotEncoder\n",
    "from sklearn.metrics import confusion_matrix\n",
    "%matplotlib inline"
   ]
  },
  {
   "cell_type": "code",
   "execution_count": 3,
   "metadata": {
    "collapsed": true
   },
   "outputs": [],
   "source": [
    "path = \"data/\"\n",
    "model_path = path + 'models/'"
   ]
  },
  {
   "cell_type": "code",
   "execution_count": 4,
   "metadata": {
    "collapsed": true
   },
   "outputs": [],
   "source": [
    "batch_size = 8"
   ]
  },
  {
   "cell_type": "markdown",
   "metadata": {},
   "source": [
    "Load batches into a generator and do data augmentation by rotating, shifting, shearing and zooming images."
   ]
  },
  {
   "cell_type": "code",
   "execution_count": 5,
   "metadata": {
    "scrolled": true
   },
   "outputs": [
    {
     "name": "stdout",
     "output_type": "stream",
     "text": [
      "Found 41955 images belonging to 4250 classes.\n",
      "Found 7140 images belonging to 4250 classes.\n"
     ]
    }
   ],
   "source": [
    "gen = image.ImageDataGenerator()\n",
    "gen = image.ImageDataGenerator(rotation_range=10, width_shift_range=0.1, \n",
    "       height_shift_range=0.1, shear_range=0.15, zoom_range=0.1, \n",
    "       channel_shift_range=10., horizontal_flip=True)#dim_ordering='tf')\n",
    "trn_batch = gen.flow_from_directory(directory=path+'trainHalf',target_size=(224,224), batch_size=batch_size,shuffle=False)\n",
    "val_batch = gen.flow_from_directory(directory=path+'validateHalf',target_size=(224,224), batch_size=batch_size,shuffle=False)"
   ]
  },
  {
   "cell_type": "code",
   "execution_count": 6,
   "metadata": {},
   "outputs": [],
   "source": [
    "num_categories = len(trn_batch.class_indices)"
   ]
  },
  {
   "cell_type": "markdown",
   "metadata": {},
   "source": [
    "## Load VGG16, fine-tune and precompute output \n",
    "The general approach here is to do all the data augmentation up front and then precompute the VGG response up to the highest convolutional layer. Then we can add three more fully connected layers that are initialized randomly and train them on the precomputed VGG responses to do proper IDing of the fluke images. The precomputing of the slow VGG responses allowed me to iterate versions of the classification network on top faster."
   ]
  },
  {
   "cell_type": "markdown",
   "metadata": {},
   "source": [
    "Use the (now outdated) version of the FastAI toolbox to load VGG16 and set up fine-tuning of the VGG weights in higher layers for this specific image dataset. The \"finetune\" method makes the VGG convolutional layers trainable where the higher layers have large learning rates compared to the lower layers. These learning rates are at least a factor of ten less than the rate chosen for the fully connected layers on top for classification."
   ]
  },
  {
   "cell_type": "code",
   "execution_count": 7,
   "metadata": {},
   "outputs": [],
   "source": [
    "vgg = Vgg16()\n",
    "vgg.finetune(trn_batch)\n",
    "# vgg.fit(trn_batch, val_batch, nb_epoch=1)\n",
    "model = vgg.model"
   ]
  },
  {
   "cell_type": "code",
   "execution_count": 8,
   "metadata": {},
   "outputs": [],
   "source": [
    "layers = model.layers"
   ]
  },
  {
   "cell_type": "markdown",
   "metadata": {},
   "source": [
    "Get the index of the last convolutional layer and create a new model with all layers up to and including that one."
   ]
  },
  {
   "cell_type": "code",
   "execution_count": 9,
   "metadata": {},
   "outputs": [],
   "source": [
    "last_conv_idx = [idx for idx,layer in enumerate(layers)\n",
    "                 if type(layer) is Convolution2D][-1]"
   ]
  },
  {
   "cell_type": "code",
   "execution_count": 10,
   "metadata": {},
   "outputs": [
    {
     "data": {
      "text/plain": [
       "30"
      ]
     },
     "execution_count": 10,
     "metadata": {},
     "output_type": "execute_result"
    }
   ],
   "source": [
    "last_conv_idx"
   ]
  },
  {
   "cell_type": "code",
   "execution_count": 11,
   "metadata": {
    "collapsed": true
   },
   "outputs": [],
   "source": [
    "conv_layers = layers[:last_conv_idx+1]\n",
    "fc_layers = layers[last_conv_idx+1:]"
   ]
  },
  {
   "cell_type": "code",
   "execution_count": 12,
   "metadata": {},
   "outputs": [],
   "source": [
    "conv_model = Sequential(conv_layers)"
   ]
  },
  {
   "cell_type": "markdown",
   "metadata": {},
   "source": [
    "Encode the IDs for the training data"
   ]
  },
  {
   "cell_type": "code",
   "execution_count": 13,
   "metadata": {},
   "outputs": [],
   "source": [
    "from sklearn.preprocessing import OneHotEncoder\n",
    "def onehot(x): return np.array(OneHotEncoder().fit_transform(x.reshape(-1,1)).todense())\n",
    "val_classes = val_batch.classes\n",
    "trn_classes = trn_batch.classes\n",
    "val_labels = onehot(val_classes)\n",
    "trn_labels = onehot(trn_classes)\n",
    "# plt.plot(np.sum(trn_labels,axis=0))\n",
    "# plt.imshow(val_labels)\n",
    "# trn_classes.shape"
   ]
  },
  {
   "cell_type": "markdown",
   "metadata": {},
   "source": [
    "Save precomputed VGG responses for training data:"
   ]
  },
  {
   "cell_type": "code",
   "execution_count": 15,
   "metadata": {},
   "outputs": [],
   "source": [
    "val_features = conv_model.predict_generator(val_batch, val_batch.N)\n",
    "save_array(model_path + 'valid_convlayer_features.bc', val_features)\n",
    "trn_features = conv_model.predict_generator(trn_batch, trn_batch.N)#,max_q_size=1)#,pickle_safe=True)\n",
    "save_array(model_path + 'trn_convlayer_features.bc', trn_features)"
   ]
  },
  {
   "cell_type": "markdown",
   "metadata": {},
   "source": [
    "Load precomputed VGG responses for training data:"
   ]
  },
  {
   "cell_type": "code",
   "execution_count": 16,
   "metadata": {},
   "outputs": [],
   "source": [
    "trn_features = load_array(model_path + 'valid_convlayer_features.bc')\n",
    "val_features = load_array(model_path + 'trn_convlayer_features.bc')"
   ]
  },
  {
   "cell_type": "markdown",
   "metadata": {},
   "source": [
    "## Add three fully connected layers \n",
    "to map precomputed VGG conv responses to whale IDs"
   ]
  },
  {
   "cell_type": "markdown",
   "metadata": {},
   "source": [
    "Set optimizer:"
   ]
  },
  {
   "cell_type": "code",
   "execution_count": 14,
   "metadata": {},
   "outputs": [],
   "source": [
    "opt = keras.optimizers.Adam(lr=.0002)"
   ]
  },
  {
   "cell_type": "markdown",
   "metadata": {},
   "source": [
    "Build fully connected network to map VGG convnet output to labels:"
   ]
  },
  {
   "cell_type": "code",
   "execution_count": 15,
   "metadata": {},
   "outputs": [],
   "source": [
    "def get_fc():\n",
    "    model = Sequential([\n",
    "            MaxPooling2D(input_shape=conv_layers[-1].output_shape[1:]),\n",
    "            Flatten(),\n",
    "#             Dense(4096,activation='relu'),\n",
    "            Dense(256+4096,activation='relu'),\n",
    "            Dropout(0.1),#(0.22),#.2, 2nd best is .22\n",
    "            \n",
    "#             Dense(4096,activation='relu'),\n",
    "            Dense(256+4096,activation='relu'),\n",
    "            Dropout(0.1),#(0.55),\n",
    "            Dense(256+4096,activation='relu'),\n",
    "            Dropout(0.5),#(0.55),\n",
    "            Dense(num_categories,activation='softmax')\n",
    "                        \n",
    "        ])\n",
    "    model.compile(optimizer=opt,loss='categorical_crossentropy',metrics=['accuracy'])\n",
    "    return model"
   ]
  },
  {
   "cell_type": "code",
   "execution_count": 16,
   "metadata": {},
   "outputs": [],
   "source": [
    "fc_only = get_fc()\n",
    "\n",
    "fc_only.save_weights(model_path+'fc0_3layer_4352_999_828.h5')\n",
    "fc_only.load_weights(model_path+'fc0_3layer_4352_999_828.h5')"
   ]
  },
  {
   "cell_type": "markdown",
   "metadata": {},
   "source": [
    "## Train the network"
   ]
  },
  {
   "cell_type": "markdown",
   "metadata": {
    "collapsed": true
   },
   "source": [
    "Set optimizer for fully connected layers and train network, including fine-tuning of higher VGG layers. Note this cell was run manually many times, only the most recent epochs are shown.\n",
    "\n",
    "There is a large degree of overfitting here with the training set accuracy at 99.9% and the validation set at 82.6%, but this was the maximum value for the validation set I was able to achieve."
   ]
  },
  {
   "cell_type": "code",
   "execution_count": 33,
   "metadata": {},
   "outputs": [
    {
     "name": "stdout",
     "output_type": "stream",
     "text": [
      "Train on 41955 samples, validate on 7140 samples\n",
      "Epoch 1/15\n",
      "41955/41955 [==============================] - 178s - loss: 0.0037 - acc: 0.9990 - val_loss: 1.2077 - val_acc: 0.8263\n",
      "Epoch 2/15\n",
      "41955/41955 [==============================] - 179s - loss: 0.0022 - acc: 0.9994 - val_loss: 1.2116 - val_acc: 0.8262\n",
      "Epoch 3/15\n",
      "41955/41955 [==============================] - 179s - loss: 0.0027 - acc: 0.9994 - val_loss: 1.2109 - val_acc: 0.8263\n",
      "Epoch 4/15\n",
      "41955/41955 [==============================] - 179s - loss: 0.0036 - acc: 0.9994 - val_loss: 1.2118 - val_acc: 0.8261\n",
      "Epoch 5/15\n",
      "41955/41955 [==============================] - 179s - loss: 0.0031 - acc: 0.9993 - val_loss: 1.2083 - val_acc: 0.8246\n",
      "Epoch 6/15\n",
      "41955/41955 [==============================] - 180s - loss: 0.0030 - acc: 0.9993 - val_loss: 1.2090 - val_acc: 0.8242\n",
      "Epoch 7/15\n",
      "41955/41955 [==============================] - 181s - loss: 0.0028 - acc: 0.9994 - val_loss: 1.2126 - val_acc: 0.8248\n",
      "Epoch 8/15\n",
      "41955/41955 [==============================] - 182s - loss: 0.0023 - acc: 0.9994 - val_loss: 1.2096 - val_acc: 0.8263\n",
      "Epoch 9/15\n",
      "41955/41955 [==============================] - 182s - loss: 0.0042 - acc: 0.9994 - val_loss: 1.2107 - val_acc: 0.8272\n",
      "Epoch 10/15\n",
      "41955/41955 [==============================] - 182s - loss: 0.0038 - acc: 0.9991 - val_loss: 1.2064 - val_acc: 0.8282\n",
      "Epoch 11/15\n",
      "41955/41955 [==============================] - 182s - loss: 0.0020 - acc: 0.9995 - val_loss: 1.2074 - val_acc: 0.8268\n",
      "Epoch 12/15\n",
      "41955/41955 [==============================] - 185s - loss: 0.0015 - acc: 0.9997 - val_loss: 1.2120 - val_acc: 0.8273\n",
      "Epoch 13/15\n",
      "41955/41955 [==============================] - 185s - loss: 0.0020 - acc: 0.9995 - val_loss: 1.2026 - val_acc: 0.8279\n",
      "Epoch 14/15\n",
      "41955/41955 [==============================] - 184s - loss: 0.0027 - acc: 0.9994 - val_loss: 1.2037 - val_acc: 0.8286\n",
      "Epoch 15/15\n",
      "41955/41955 [==============================] - 184s - loss: 0.0021 - acc: 0.9993 - val_loss: 1.1976 - val_acc: 0.8275\n"
     ]
    },
    {
     "data": {
      "text/plain": [
       "<keras.callbacks.History at 0x7f63cc706590>"
      ]
     },
     "execution_count": 33,
     "metadata": {},
     "output_type": "execute_result"
    }
   ],
   "source": [
    "model.compile(optimizer=opt,loss='categorical_crossentropy',metrics=['accuracy'])\n",
    "fc_only.fit(trn_features, trn_labels, nb_epoch=15, \n",
    "             batch_size=batch_size, validation_data=(val_features, val_labels))"
   ]
  },
  {
   "cell_type": "markdown",
   "metadata": {},
   "source": [
    "This is probably too many free parameters:"
   ]
  },
  {
   "cell_type": "code",
   "execution_count": 19,
   "metadata": {},
   "outputs": [
    {
     "name": "stdout",
     "output_type": "stream",
     "text": [
      "____________________________________________________________________________________________________\n",
      "Layer (type)                     Output Shape          Param #     Connected to                     \n",
      "====================================================================================================\n",
      "maxpooling2d_6 (MaxPooling2D)    (None, 512, 7, 7)     0           maxpooling2d_input_1[0][0]       \n",
      "____________________________________________________________________________________________________\n",
      "flatten_2 (Flatten)              (None, 25088)         0           maxpooling2d_6[0][0]             \n",
      "____________________________________________________________________________________________________\n",
      "dense_5 (Dense)                  (None, 4096)          102764544   flatten_2[0][0]                  \n",
      "____________________________________________________________________________________________________\n",
      "dropout_3 (Dropout)              (None, 4096)          0           dense_5[0][0]                    \n",
      "____________________________________________________________________________________________________\n",
      "dense_6 (Dense)                  (None, 4096)          16781312    dropout_3[0][0]                  \n",
      "____________________________________________________________________________________________________\n",
      "dropout_4 (Dropout)              (None, 4096)          0           dense_6[0][0]                    \n",
      "____________________________________________________________________________________________________\n",
      "dense_7 (Dense)                  (None, 4251)          17416347    dropout_4[0][0]                  \n",
      "====================================================================================================\n",
      "Total params: 136962203\n",
      "____________________________________________________________________________________________________\n"
     ]
    }
   ],
   "source": [
    "fc_only.summary()"
   ]
  },
  {
   "cell_type": "code",
   "execution_count": 16,
   "metadata": {
    "scrolled": false
   },
   "outputs": [
    {
     "data": {
      "text/plain": [
       "(512, 14, 14)"
      ]
     },
     "execution_count": 16,
     "metadata": {},
     "output_type": "execute_result"
    }
   ],
   "source": [
    "conv_layers[-1].output_shape[1:]"
   ]
  },
  {
   "cell_type": "markdown",
   "metadata": {},
   "source": [
    "## Run model on test set from Kaggle\n",
    "Set trainable to false and compute VGG responses and then fully connected responses"
   ]
  },
  {
   "cell_type": "markdown",
   "metadata": {},
   "source": [
    "### Evaluation criteria from Kaggle:\n",
    "\n",
    "Submissions are evaluated according to the Mean Average Precision @ 5 (MAP@5):\n",
    "\n",
    "MAP@5=1U∑u=1U∑k=1min(n,5)P(k)\n",
    "\n",
    "where U is the number of images, P(k) is the precision at cutoff k, and n is the number predictions per image.\n",
    "Submission File\n",
    "\n",
    "For each Image in the test set, you may predict up to 5 labels for the whale Id. Whales that are not predicted to be one of the labels in the training data should be labeled as new_whale. "
   ]
  },
  {
   "cell_type": "markdown",
   "metadata": {},
   "source": [
    "### A strategy for evaluation\n",
    "Since we can predict the top 5 labels for the whale ID, we will make predictions for each image and sort by probability, i.e. a softmax normalization of the class predicitons.\n",
    "The additional complication is that some fraction will be \"unknown\". In order to deal with this, I have chosen to train on only those images with IDs. I will examine the distribution of the top five probabilities and choose a cutoff. For example, if the first probability is only 20%, it may be worth making the first guess \"unknown\". Admittedly this will take some tuning and feedback from the Kaggle test set score."
   ]
  },
  {
   "cell_type": "code",
   "execution_count": 17,
   "metadata": {},
   "outputs": [],
   "source": [
    "for layer in conv_model.layers: layer.trainable = False"
   ]
  },
  {
   "cell_type": "code",
   "execution_count": 20,
   "metadata": {},
   "outputs": [],
   "source": [
    "conv_model.add(fc_only)"
   ]
  },
  {
   "cell_type": "code",
   "execution_count": 19,
   "metadata": {},
   "outputs": [],
   "source": [
    "conv_model.compile(optimizer=opt,loss='categorical_crossentropy',metrics=['accuracy'])"
   ]
  },
  {
   "cell_type": "markdown",
   "metadata": {},
   "source": [
    "Precompute convolutional features and compute fully connected resposnes:"
   ]
  },
  {
   "cell_type": "code",
   "execution_count": 19,
   "metadata": {},
   "outputs": [
    {
     "name": "stdout",
     "output_type": "stream",
     "text": [
      "Found 15610 images belonging to 1 classes.\n"
     ]
    }
   ],
   "source": [
    "batches_test = gen.flow_from_directory(directory='/home/james/Documents/kaggle/whales/raw/test0',target_size=(224,224), batch_size=batch_size,shuffle=False)\n",
    "\n",
    "# test_features = conv_model.predict_generator(batches_test, batches_test.N)#,max_q_size=1)#,pickle_safe=True)\n",
    "# test_features = save_array(model_path + 'test_convlayer_features.bc')\n",
    "test_features = load_array(model_path + 'test_convlayer_features.bc')\n",
    "\n",
    "preds_test = fc_only.predict(test_features, batches_test.N)#,max_q_size=1)#,pickle_safe=True)"
   ]
  },
  {
   "cell_type": "markdown",
   "metadata": {},
   "source": [
    "Sort by softmax probabilities:"
   ]
  },
  {
   "cell_type": "code",
   "execution_count": 20,
   "metadata": {},
   "outputs": [
    {
     "data": {
      "text/plain": [
       "(15610, 1)"
      ]
     },
     "execution_count": 20,
     "metadata": {},
     "output_type": "execute_result"
    }
   ],
   "source": [
    "preds_test_sort = np.sort(preds_test,axis=1)\n",
    "preds_hi = preds_test_sort[:,-1:]\n",
    "preds_hi.shape"
   ]
  },
  {
   "cell_type": "markdown",
   "metadata": {},
   "source": [
    "Examine distribution of probabilities for the top two classes. For the most likely class, note that 80% of predictions are >90% weighted to a single class, showing high confidence."
   ]
  },
  {
   "cell_type": "code",
   "execution_count": 45,
   "metadata": {},
   "outputs": [
    {
     "data": {
      "image/png": "[encoded data removed]",
      "text/plain": [
       "<matplotlib.figure.Figure at 0x7f0bb8c4cdd0>"
      ]
     },
     "metadata": {},
     "output_type": "display_data"
    }
   ],
   "source": [
    "def ecdf(x):\n",
    "    xs = np.sort(x,axis=0)\n",
    "    ys = np.arange(1, len(xs)+1)/float(len(xs))\n",
    "    return xs, ys\n",
    "xe,ye = ecdf(preds_hi)\n",
    "plt.plot(xe,ye)\n",
    "plt.grid()"
   ]
  },
  {
   "cell_type": "markdown",
   "metadata": {},
   "source": [
    "An examination the joint PDF of the first two probability values. This shows that most first predictions are greater than 90% weight, with the second prediction at < 5%. However, there is also a hotspot where both are close to 10%. This is what I initally targeted for the \"unknown\" label, but found that I got much better results if I considered anything under 97.2% to be most likely \"unknown\". This makes sense - given the CDF above, with 30% of the first predictions below a probability of 97.2%, that 30% of the test set is \"unknown\"."
   ]
  },
  {
   "cell_type": "code",
   "execution_count": 70,
   "metadata": {},
   "outputs": [
    {
     "data": {
      "image/png": "[encoded data removed]",
      "text/plain": [
       "<matplotlib.figure.Figure at 0x7f0bb4320bd0>"
      ]
     },
     "metadata": {},
     "output_type": "display_data"
    }
   ],
   "source": [
    "# plt.scatter(preds_hi,preds_hi2[:,0])\n",
    "# preds_hi2[:,0].shape\n",
    "# preds_hi[:,0].shape\n",
    "from scipy.stats import gaussian_kde\n",
    "\n",
    "# # Calculate the point density\n",
    "xy = np.vstack([preds_hi[:,0],preds_hi2[:,0]])\n",
    "z = gaussian_kde(xy)(xy)\n",
    "\n",
    "# Sort the points by density, so that the densest points are plotted last\n",
    "idx = z.argsort()\n",
    "# xd, yd, zd = x[idx], y[idx], z[idx]\n",
    "xd, yd, zd = preds_hi[idx,0],preds_hi2[idx,0],z[idx]\n",
    "fig, ax = plt.subplots()\n",
    "ax.scatter(xd, yd, c=np.log(1+zd), s=50, edgecolor='')\n",
    "plt.show()\n",
    "# plt.colormaps()\n"
   ]
  },
  {
   "cell_type": "markdown",
   "metadata": {},
   "source": [
    "## Create CSV for submission\n",
    "Sort by softmax norm of prediciton:"
   ]
  },
  {
   "cell_type": "code",
   "execution_count": 21,
   "metadata": {
    "collapsed": true
   },
   "outputs": [],
   "source": [
    "preds_class = np.argsort(preds_test,axis=1)"
   ]
  },
  {
   "cell_type": "code",
   "execution_count": 24,
   "metadata": {},
   "outputs": [
    {
     "data": {
      "text/plain": [
       "'w_7e4d894'"
      ]
     },
     "execution_count": 24,
     "metadata": {},
     "output_type": "execute_result"
    }
   ],
   "source": [
    "preds_class[0,-5:]\n",
    "preds_test[0,-5:]\n",
    "classes_val[2102]"
   ]
  },
  {
   "cell_type": "code",
   "execution_count": 23,
   "metadata": {},
   "outputs": [
    {
     "data": {
      "text/plain": [
       "4251"
      ]
     },
     "execution_count": 23,
     "metadata": {},
     "output_type": "execute_result"
    }
   ],
   "source": [
    "classes_val = sorted(val_batch.class_indices, key=val_batch.class_indices.get)\n",
    "classes_val.append('new_whale')\n",
    "len(classes_val)"
   ]
  },
  {
   "cell_type": "markdown",
   "metadata": {},
   "source": [
    "This is the hack for introducing the 'unknown'/'new whale' category. Through empricial tests of the test set with Kaggle scoring, I found that for any entry where the greatest prediciton probability is less than 97.2%, it was best to set the first entry to \"unknown\". If the confidence was greater than that, set the second entry to \"unknown\".\n",
    "This was surprising to me - it shows there are a lot of \"unknown\" whale in the test set."
   ]
  },
  {
   "cell_type": "code",
   "execution_count": 25,
   "metadata": {},
   "outputs": [],
   "source": [
    "li=[]\n",
    "for kk in range(preds_test.shape[0]):\n",
    "    \n",
    "    a1=preds_class[kk,::-1][0:5]\n",
    "            \n",
    "    # currently best\n",
    "    if preds_test_sort[kk,-1:] < 0.97: # best is .972\n",
    "        a1[1:4]=a1[0:3]\n",
    "        a1[0] = len(classes_val)-1\n",
    "    else:\n",
    "        a1[2:4]=a1[1:3]\n",
    "        a1[1] = len(classes_val)-1\n",
    "\n",
    "    li.append([classes_val[ii]+' ' for ii in a1])   "
   ]
  },
  {
   "cell_type": "code",
   "execution_count": 36,
   "metadata": {},
   "outputs": [
    {
     "data": {
      "text/plain": [
       "['w_3eaef21 ', 'w_f3d98bc ', 'w_5f6fb4e ', 'w_c20f21c ', 'w_302c025 ']"
      ]
     },
     "execution_count": 36,
     "metadata": {},
     "output_type": "execute_result"
    }
   ],
   "source": [
    "# newFlag = False\n",
    "li[0][0:]"
   ]
  },
  {
   "cell_type": "code",
   "execution_count": 36,
   "metadata": {},
   "outputs": [
    {
     "data": {
      "text/plain": [
       "array([4250, 1844, 3588, 1113, 3913])"
      ]
     },
     "execution_count": 36,
     "metadata": {},
     "output_type": "execute_result"
    }
   ],
   "source": [
    "preds_class.shape\n",
    "kk\n",
    "np.shape(li)\n",
    "a1"
   ]
  },
  {
   "cell_type": "markdown",
   "metadata": {},
   "source": [
    "Build ID strings in appropriate order"
   ]
  },
  {
   "cell_type": "code",
   "execution_count": 31,
   "metadata": {},
   "outputs": [
    {
     "data": {
      "text/plain": [
       "[['w_3eaef21 w_f3d98bc w_5f6fb4e w_c20f21c w_302c025 '],\n",
       " ['w_ffdab7a w_43be268 w_1772ed2 w_44cccf6 w_286ec5f '],\n",
       " ['w_ffdab7a w_9ea2cc3 w_b7d5069 w_5f43cde w_6710cf8 '],\n",
       " ['w_511c464 w_ffdab7a w_b8ea509 w_bbd9409 w_2c46a73 '],\n",
       " ['w_ffdab7a w_bc62c0e w_67de30b w_c9ba30c w_d3ed80e ']]"
      ]
     },
     "execution_count": 31,
     "metadata": {},
     "output_type": "execute_result"
    }
   ],
   "source": [
    "# items[3:6] = [''.join(items[3:6])]\n",
    "for kk in range(preds_test.shape[0]):\n",
    "    li[kk][0:5] = [''.join(li[kk][0:5])]\n",
    "li[0:5]"
   ]
  },
  {
   "cell_type": "code",
   "execution_count": 27,
   "metadata": {},
   "outputs": [
    {
     "data": {
      "text/plain": [
       "[['new_whale w_7e4d894 w_7875b79 w_1127c35 w_f0af1f8 '],\n",
       " ['new_whale w_0b775c1 w_44cccf6 w_d88328d w_2901dbf '],\n",
       " ['new_whale w_9875c12 w_6c803bf w_0308405 w_1ed4dde '],\n",
       " ['new_whale w_613723e w_a2a1378 w_74e15fc w_8b6fd36 '],\n",
       " ['new_whale w_e8bce8a w_7285eb3 w_c263d43 w_e613f12 ']]"
      ]
     },
     "execution_count": 27,
     "metadata": {},
     "output_type": "execute_result"
    }
   ],
   "source": [
    "# items[3:6] = [''.join(items[3:6])]\n",
    "for kk in range(preds_test.shape[0]):\n",
    "    li[kk][0:5] = [''.join(li[kk][0:5])]\n",
    "li[0:5]"
   ]
  },
  {
   "cell_type": "code",
   "execution_count": 28,
   "metadata": {},
   "outputs": [],
   "source": [
    "filenames = batches_test.filenames\n",
    "ids = np.array([(f[5:]) for f in filenames])"
   ]
  },
  {
   "cell_type": "code",
   "execution_count": 29,
   "metadata": {
    "scrolled": true
   },
   "outputs": [
    {
     "data": {
      "text/html": [
       "<div>\n",
       "<table border=\"1\" class=\"dataframe\">\n",
       "  <thead>\n",
       "    <tr style=\"text-align: right;\">\n",
       "      <th></th>\n",
       "      <th>Image</th>\n",
       "      <th>0</th>\n",
       "    </tr>\n",
       "  </thead>\n",
       "  <tbody>\n",
       "    <tr>\n",
       "      <th>15605</th>\n",
       "      <td>fff31d26.jpg</td>\n",
       "      <td>w_6d4dedc new_whale w_a29719a w_8643ba3 w_31a9...</td>\n",
       "    </tr>\n",
       "    <tr>\n",
       "      <th>15606</th>\n",
       "      <td>fff3d049.jpg</td>\n",
       "      <td>new_whale w_f8c9150 w_6132293 w_18bd7b3 w_0acc...</td>\n",
       "    </tr>\n",
       "    <tr>\n",
       "      <th>15607</th>\n",
       "      <td>fffa5100.jpg</td>\n",
       "      <td>new_whale w_02cf46c w_ea2385d w_9ec358c w_0f96...</td>\n",
       "    </tr>\n",
       "    <tr>\n",
       "      <th>15608</th>\n",
       "      <td>fffa6215.jpg</td>\n",
       "      <td>new_whale w_56bbc91 w_c708776 w_e54feba w_9ec3...</td>\n",
       "    </tr>\n",
       "    <tr>\n",
       "      <th>15609</th>\n",
       "      <td>ffffdd7f.jpg</td>\n",
       "      <td>new_whale w_fd1cb9d w_3fdab94 w_d8eae88 w_f9fb...</td>\n",
       "    </tr>\n",
       "  </tbody>\n",
       "</table>\n",
       "</div>"
      ],
      "text/plain": [
       "              Image                                                  0\n",
       "15605  fff31d26.jpg  w_6d4dedc new_whale w_a29719a w_8643ba3 w_31a9...\n",
       "15606  fff3d049.jpg  new_whale w_f8c9150 w_6132293 w_18bd7b3 w_0acc...\n",
       "15607  fffa5100.jpg  new_whale w_02cf46c w_ea2385d w_9ec358c w_0f96...\n",
       "15608  fffa6215.jpg  new_whale w_56bbc91 w_c708776 w_e54feba w_9ec3...\n",
       "15609  ffffdd7f.jpg  new_whale w_fd1cb9d w_3fdab94 w_d8eae88 w_f9fb..."
      ]
     },
     "execution_count": 29,
     "metadata": {},
     "output_type": "execute_result"
    }
   ],
   "source": [
    "import pandas as pd\n",
    "submission = pd.DataFrame(li)\n",
    "submission.insert(0, 'Image', [ii for ii in ids])\n",
    "# submission.rename\n",
    "# >>> df.rename(index=str, columns={\"A\": \"a\", \"B\": \"c\"})\n",
    "submission.tail()"
   ]
  },
  {
   "cell_type": "code",
   "execution_count": 30,
   "metadata": {},
   "outputs": [],
   "source": [
    "submission.to_csv(path+'models/jrg_subm0_788_feb6_4_970.csv', index=False, compression='gzip')"
   ]
  },
  {
   "cell_type": "code",
   "execution_count": 31,
   "metadata": {},
   "outputs": [
    {
     "data": {
      "text/html": [
       "<a href='data/models/jrg_subm0_788_feb6_4_970.csv' target='_blank'>data/models/jrg_subm0_788_feb6_4_970.csv</a><br>"
      ],
      "text/plain": [
       "/home/james/Documents/kaggle/whales/data/models/jrg_subm0_788_feb6_4_970.csv"
      ]
     },
     "execution_count": 31,
     "metadata": {},
     "output_type": "execute_result"
    }
   ],
   "source": [
    "FileLink(path+'models/jrg_subm0_788_feb6_4_970.csv')"
   ]
  }
 ],
 "metadata": {
  "anaconda-cloud": {},
  "kernelspec": {
   "display_name": "Python 3",
   "language": "python",
   "name": "python3"
  },
  "language_info": {
   "codemirror_mode": {
    "name": "ipython",
    "version": 3
   },
   "file_extension": ".py",
   "mimetype": "text/x-python",
   "name": "python",
   "nbconvert_exporter": "python",
   "pygments_lexer": "ipython3",
   "version": "3.6.4"
  },
  "varInspector": {
   "cols": {
    "lenName": 16,
    "lenType": 16,
    "lenVar": 40
   },
   "kernels_config": {
    "python": {
     "delete_cmd_postfix": "",
     "delete_cmd_prefix": "del ",
     "library": "var_list.py",
     "varRefreshCmd": "print(var_dic_list())"
    },
    "r": {
     "delete_cmd_postfix": ") ",
     "delete_cmd_prefix": "rm(",
     "library": "var_list.r",
     "varRefreshCmd": "cat(var_dic_list()) "
    }
   },
   "position": {
    "height": "346px",
    "left": "909px",
    "right": "104px",
    "top": "120px",
    "width": "295px"
   },
   "types_to_exclude": [
    "module",
    "function",
    "builtin_function_or_method",
    "instance",
    "_Feature"
   ],
   "window_display": true
  }
 },
 "nbformat": 4,
 "nbformat_minor": 1
}
